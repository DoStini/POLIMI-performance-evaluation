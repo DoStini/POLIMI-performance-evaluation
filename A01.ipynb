{
 "cells": [
  {
   "cell_type": "code",
   "execution_count": 1,
   "metadata": {},
   "outputs": [],
   "source": [
    "import pandas as pd\n",
    "import matplotlib.pyplot as plt\n",
    "import re\n",
    "import numpy as np\n"
   ]
  },
  {
   "cell_type": "code",
   "execution_count": 15,
   "metadata": {},
   "outputs": [],
   "source": [
    "reader = open('barrier.log')\n",
    "writer = open('barrier.csv', 'w')\n",
    "\n",
    "for line in reader:\n",
    "    result = re.search(\"\\[(.*)\\]\\[(.*)\\]\", line)\n",
    "    print(result.group(1), result.group(2), sep=',', file=writer)"
   ]
  },
  {
   "cell_type": "code",
   "execution_count": 16,
   "metadata": {},
   "outputs": [
    {
     "name": "stdout",
     "output_type": "stream",
     "text": [
      "Number of arrivals:  1000\n",
      "Number of departures:  1000\n"
     ]
    }
   ],
   "source": [
    "df = pd.read_csv('barrier.csv', header=None)\n",
    "\n",
    "# parse times from log file\n",
    "# format 2023:281:11:30:50:9 to seconds since epoch\n",
    "\n",
    "# convert to datetime\n",
    "\n",
    "df[0] = pd.to_datetime(df[0], format='%Y:%j:%H:%M:%S:%f')\n",
    "\n",
    "arrivals = df.where(df[1] == \"_IN_\").dropna()[0].reset_index()[0]\n",
    "departures = df.where(df[1] == \"_OUT\").dropna()[0].reset_index()[0]\n",
    "\n",
    "num_arrivals = len(arrivals)\n",
    "num_departures = len(departures)\n",
    "\n",
    "print(\"Number of arrivals: \", num_arrivals)\n",
    "print(\"Number of departures: \", num_departures)"
   ]
  },
  {
   "cell_type": "code",
   "execution_count": 17,
   "metadata": {},
   "outputs": [
    {
     "data": {
      "image/png": "[encoded data removed]",
      "text/plain": [
       "<Figure size 640x480 with 1 Axes>"
      ]
     },
     "metadata": {},
     "output_type": "display_data"
    }
   ],
   "source": [
    "# plot arrivals and departures\n",
    "arrivals.plot(style='r.')\n",
    "departures.plot(style='b.')\n",
    "plt.show()\n",
    "\n",
    "# the system is stable and the last arrival corresponds to the last departure\n",
    "# we can proceed with the normal analysis"
   ]
  },
  {
   "cell_type": "code",
   "execution_count": 18,
   "metadata": {},
   "outputs": [
    {
     "name": "stdout",
     "output_type": "stream",
     "text": [
      "Total time:  0 days 17:20:41.600000\n"
     ]
    }
   ],
   "source": [
    "\n",
    "T = (departures.values[-1] - arrivals[0])\n",
    "print(\"Total time: \", T)\n",
    "\n",
    "inter_arrival_times = arrivals.diff().dropna() # arrivals[1:] - arrivals[:-1]\n",
    "average_inter_arrival_time = inter_arrival_times.mean().total_seconds()\n",
    "\n",
    "arrival_rate = 1 / average_inter_arrival_time\n",
    "throughput = arrival_rate\n",
    "\n",
    "service_times = []\n",
    "# compute completion times\n",
    "for idx, value in enumerate(departures):\n",
    "    target = arrivals[idx] if idx == 0 else max(arrivals[idx], departures[idx-1])\n",
    "    service_times.append(value - target)\n",
    "\n",
    "service_times = pd.Series(service_times)\n",
    "\n",
    "average_service_time = service_times.mean().total_seconds()\n",
    "\n",
    "utilization = service_times.sum() / T\n",
    "\n",
    "response_times = departures - arrivals\n",
    "average_response_time = response_times.mean().total_seconds()\n",
    "W = response_times.sum()\n",
    "average_number_jobs = W / T\n"
   ]
  },
  {
   "cell_type": "code",
   "execution_count": 19,
   "metadata": {},
   "outputs": [
    {
     "data": {
      "text/html": [
       "<div>\n",
       "<style scoped>\n",
       "    .dataframe tbody tr th:only-of-type {\n",
       "        vertical-align: middle;\n",
       "    }\n",
       "\n",
       "    .dataframe tbody tr th {\n",
       "        vertical-align: top;\n",
       "    }\n",
       "\n",
       "    .dataframe thead th {\n",
       "        text-align: right;\n",
       "    }\n",
       "</style>\n",
       "<table border=\"1\" class=\"dataframe\">\n",
       "  <thead>\n",
       "    <tr style=\"text-align: right;\">\n",
       "      <th></th>\n",
       "      <th>time</th>\n",
       "      <th>value</th>\n",
       "      <th>sum</th>\n",
       "    </tr>\n",
       "  </thead>\n",
       "  <tbody>\n",
       "    <tr>\n",
       "      <th>0</th>\n",
       "      <td>2023-10-08 11:30:50.900</td>\n",
       "      <td>1</td>\n",
       "      <td>1</td>\n",
       "    </tr>\n",
       "    <tr>\n",
       "      <th>0</th>\n",
       "      <td>2023-10-08 11:31:15.800</td>\n",
       "      <td>-1</td>\n",
       "      <td>0</td>\n",
       "    </tr>\n",
       "    <tr>\n",
       "      <th>1</th>\n",
       "      <td>2023-10-08 11:31:25.700</td>\n",
       "      <td>1</td>\n",
       "      <td>1</td>\n",
       "    </tr>\n",
       "    <tr>\n",
       "      <th>2</th>\n",
       "      <td>2023-10-08 11:31:31.500</td>\n",
       "      <td>1</td>\n",
       "      <td>2</td>\n",
       "    </tr>\n",
       "    <tr>\n",
       "      <th>3</th>\n",
       "      <td>2023-10-08 11:31:31.600</td>\n",
       "      <td>1</td>\n",
       "      <td>3</td>\n",
       "    </tr>\n",
       "    <tr>\n",
       "      <th>...</th>\n",
       "      <td>...</td>\n",
       "      <td>...</td>\n",
       "      <td>...</td>\n",
       "    </tr>\n",
       "    <tr>\n",
       "      <th>997</th>\n",
       "      <td>2023-10-09 04:50:34.300</td>\n",
       "      <td>-1</td>\n",
       "      <td>0</td>\n",
       "    </tr>\n",
       "    <tr>\n",
       "      <th>998</th>\n",
       "      <td>2023-10-09 04:50:41.400</td>\n",
       "      <td>1</td>\n",
       "      <td>1</td>\n",
       "    </tr>\n",
       "    <tr>\n",
       "      <th>999</th>\n",
       "      <td>2023-10-09 04:51:04.700</td>\n",
       "      <td>1</td>\n",
       "      <td>2</td>\n",
       "    </tr>\n",
       "    <tr>\n",
       "      <th>998</th>\n",
       "      <td>2023-10-09 04:51:29.500</td>\n",
       "      <td>-1</td>\n",
       "      <td>1</td>\n",
       "    </tr>\n",
       "    <tr>\n",
       "      <th>999</th>\n",
       "      <td>2023-10-09 04:51:32.500</td>\n",
       "      <td>-1</td>\n",
       "      <td>0</td>\n",
       "    </tr>\n",
       "  </tbody>\n",
       "</table>\n",
       "<p>2000 rows × 3 columns</p>\n",
       "</div>"
      ],
      "text/plain": [
       "                       time  value  sum\n",
       "0   2023-10-08 11:30:50.900      1    1\n",
       "0   2023-10-08 11:31:15.800     -1    0\n",
       "1   2023-10-08 11:31:25.700      1    1\n",
       "2   2023-10-08 11:31:31.500      1    2\n",
       "3   2023-10-08 11:31:31.600      1    3\n",
       "..                      ...    ...  ...\n",
       "997 2023-10-09 04:50:34.300     -1    0\n",
       "998 2023-10-09 04:50:41.400      1    1\n",
       "999 2023-10-09 04:51:04.700      1    2\n",
       "998 2023-10-09 04:51:29.500     -1    1\n",
       "999 2023-10-09 04:51:32.500     -1    0\n",
       "\n",
       "[2000 rows x 3 columns]"
      ]
     },
     "execution_count": 19,
     "metadata": {},
     "output_type": "execute_result"
    }
   ],
   "source": [
    "# ma is arrivals array and value 1\n",
    "\n",
    "MA = pd.DataFrame({'time': arrivals.values, 'value': 1})\n",
    "MA.head()\n",
    "\n",
    "MD = pd.DataFrame({'time': departures.values, 'value': -1})\n",
    "MD.head()\n",
    "\n",
    "M = pd.concat([MA, MD]).sort_values(by='time')\n",
    "M\n",
    "\n",
    "M[\"sum\"] = M[\"value\"].cumsum()\n",
    "\n",
    "M"
   ]
  },
  {
   "cell_type": "markdown",
   "metadata": {},
   "source": []
  },
  {
   "cell_type": "code",
   "execution_count": 28,
   "metadata": {},
   "outputs": [
    {
     "name": "stdout",
     "output_type": "stream",
     "text": [
      "Probability of 0 jobs in the system:  0.131\n",
      "Probability of 1 jobs in the system:  0.224\n",
      "Probability of 2 jobs in the system:  0.159\n",
      "Probability of 3 jobs in the system:  0.118\n",
      "Probability of 4 jobs in the system:  0.0865\n"
     ]
    },
    {
     "data": {
      "image/png": "[encoded data removed]",
      "text/plain": [
       "<Figure size 640x480 with 1 Axes>"
      ]
     },
     "metadata": {},
     "output_type": "display_data"
    }
   ],
   "source": [
    "PM_0 = M[\"sum\"].where(lambda x: x == 0).dropna().count() / len(M)\n",
    "PM_1 = M[\"sum\"].where(lambda x: x == 1).dropna().count() / len(M)\n",
    "PM_2 = M[\"sum\"].where(lambda x: x == 2).dropna().count() / len(M)\n",
    "PM_3 = M[\"sum\"].where(lambda x: x == 3).dropna().count() / len(M)\n",
    "PM_4 = M[\"sum\"].where(lambda x: x == 4).dropna().count() / len(M)\n",
    "\n",
    "print(\"Probability of 0 jobs in the system: \", PM_0)\n",
    "print(\"Probability of 1 jobs in the system: \", PM_1)\n",
    "print(\"Probability of 2 jobs in the system: \", PM_2)\n",
    "print(\"Probability of 3 jobs in the system: \", PM_3)\n",
    "print(\"Probability of 4 jobs in the system: \", PM_4)\n",
    "\n"
   ]
  },
  {
   "cell_type": "code",
   "execution_count": 21,
   "metadata": {},
   "outputs": [
    {
     "name": "stdout",
     "output_type": "stream",
     "text": [
      "Probability of response time less than 30 seconds:  0.162\n",
      "Probability of response time less than 3 minutes:  0.624\n"
     ]
    }
   ],
   "source": [
    "PRI_30 = response_times.where(lambda x: x < pd.Timedelta(seconds=30)).dropna().count() / len(response_times)\n",
    "PRI_3_MIN = response_times.where(lambda x: x < pd.Timedelta(minutes=3)).dropna().count() / len(response_times)\n",
    "\n",
    "print(\"Probability of response time less than 30 seconds: \", PRI_30)\n",
    "print(\"Probability of response time less than 3 minutes: \", PRI_3_MIN)"
   ]
  },
  {
   "cell_type": "code",
   "execution_count": 22,
   "metadata": {},
   "outputs": [
    {
     "name": "stdout",
     "output_type": "stream",
     "text": [
      "Probability of inter-arrival time less than 60 seconds:  0.6266266266266266\n"
     ]
    }
   ],
   "source": [
    "PIRT = inter_arrival_times.where(lambda x: x < pd.Timedelta(seconds=60)).dropna().count() / len(inter_arrival_times)\n",
    "print(\"Probability of inter-arrival time less than 60 seconds: \", PIRT)"
   ]
  },
  {
   "cell_type": "code",
   "execution_count": 29,
   "metadata": {},
   "outputs": [
    {
     "name": "stdout",
     "output_type": "stream",
     "text": [
      "Probability of service time greater than 60 seconds:  0.268\n"
     ]
    }
   ],
   "source": [
    "PST = service_times.where(lambda x: x > pd.Timedelta(seconds=60)).dropna().count() / len(service_times)\n",
    "print(\"Probability of service time greater than 60 seconds: \", PST)"
   ]
  },
  {
   "cell_type": "code",
   "execution_count": 24,
   "metadata": {},
   "outputs": [
    {
     "name": "stdout",
     "output_type": "stream",
     "text": [
      "Average inter-arrival time:  62.476276\n",
      "Arrival rate:  0.016006075650219612\n",
      "Througput rate:  0.016006075650219612\n",
      "Average service time:  45.3463\n",
      "Utilization:  0.7262193793881002\n",
      "Average number of jobs:  2.791257751242761\n",
      "Average response time:  174.2906\n"
     ]
    }
   ],
   "source": [
    "\n",
    "print(\"Average inter-arrival time: \", average_inter_arrival_time)\n",
    "print(\"Arrival rate: \", arrival_rate)\n",
    "print(\"Througput rate: \", throughput)\n",
    "print(\"Average service time: \", average_service_time)\n",
    "print(\"Utilization: \", utilization)\n",
    "print(\"Average number of jobs: \", average_number_jobs)\n",
    "print(\"Average response time: \", average_response_time)\n",
    "\n",
    "\n",
    "# print(arrivals)\n",
    "# print(departures)"
   ]
  }
 ],
 "metadata": {
  "kernelspec": {
   "display_name": "Python 3.11.5 ('homework': venv)",
   "language": "python",
   "name": "python3"
  },
  "language_info": {
   "codemirror_mode": {
    "name": "ipython",
    "version": 3
   },
   "file_extension": ".py",
   "mimetype": "text/x-python",
   "name": "python",
   "nbconvert_exporter": "python",
   "pygments_lexer": "ipython3",
   "version": "3.11.5"
  },
  "orig_nbformat": 4,
  "vscode": {
   "interpreter": {
    "hash": "c8c963e72888fccc7ea8b0b15ea991e49aaf7cc5fdece8662bcfaf9f83ff0acd"
   }
  }
 },
 "nbformat": 4,
 "nbformat_minor": 2
}
